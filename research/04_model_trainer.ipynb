{
 "cells": [
  {
   "cell_type": "code",
   "execution_count": 2,
   "metadata": {},
   "outputs": [],
   "source": [
    "import os"
   ]
  },
  {
   "cell_type": "code",
   "execution_count": 1,
   "metadata": {},
   "outputs": [
    {
     "data": {
      "text/plain": [
       "'/Users/revanth_reddy/Desktop/AskmeOffers_Coupuon_Acceptance_Analysis_and_Prediction_with_MLOps(Mlflow)/research'"
      ]
     },
     "execution_count": 1,
     "metadata": {},
     "output_type": "execute_result"
    }
   ],
   "source": [
    "%pwd"
   ]
  },
  {
   "cell_type": "code",
   "execution_count": 3,
   "metadata": {},
   "outputs": [],
   "source": [
    "os.chdir(\"../\")"
   ]
  },
  {
   "cell_type": "code",
   "execution_count": 4,
   "metadata": {},
   "outputs": [
    {
     "data": {
      "text/plain": [
       "'/Users/revanth_reddy/Desktop/AskmeOffers_Coupuon_Acceptance_Analysis_and_Prediction_with_MLOps(Mlflow)'"
      ]
     },
     "execution_count": 4,
     "metadata": {},
     "output_type": "execute_result"
    }
   ],
   "source": [
    "%pwd"
   ]
  },
  {
   "cell_type": "code",
   "execution_count": 26,
   "metadata": {},
   "outputs": [],
   "source": [
    "from dataclasses import dataclass\n",
    "from pathlib import Path\n",
    "\n",
    "\n",
    "@dataclass(frozen=True)\n",
    "class ModelTrainerConfig:\n",
    "    root_dir: Path\n",
    "    train_data_path: Path\n",
    "    test_data_path: Path\n",
    "    model_name: str\n",
    "    iterations: int\n",
    "    depth: int\n",
    "    target_column: str"
   ]
  },
  {
   "cell_type": "code",
   "execution_count": 27,
   "metadata": {},
   "outputs": [],
   "source": [
    "from mlProject.constants import *\n",
    "from mlProject.utils.common import read_yaml, create_directories"
   ]
  },
  {
   "cell_type": "code",
   "execution_count": 28,
   "metadata": {},
   "outputs": [],
   "source": [
    "class ConfigurationManager:\n",
    "    def __init__(\n",
    "        self,\n",
    "        config_filepath = CONFIG_FILE_PATH,\n",
    "        params_filepath = PARAMS_FILE_PATH,\n",
    "        schema_filepath = SCHEMA_FILE_PATH):\n",
    "\n",
    "        self.config = read_yaml(config_filepath)\n",
    "        self.params = read_yaml(params_filepath)\n",
    "        self.schema = read_yaml(schema_filepath)\n",
    "\n",
    "        create_directories([self.config.artifacts_root])\n",
    "\n",
    "\n",
    "    def get_model_trainer_config(self) -> ModelTrainerConfig:\n",
    "        config = self.config.model_trainer\n",
    "        params = self.params.CatBoostClassifier\n",
    "        schema =  self.schema.TARGET_COLUMN\n",
    "\n",
    "        create_directories([config.root_dir])\n",
    "\n",
    "        model_trainer_config = ModelTrainerConfig(\n",
    "            root_dir=config.root_dir,\n",
    "            train_data_path = config.train_data_path,\n",
    "            test_data_path = config.test_data_path,\n",
    "            model_name = config.model_name,\n",
    "            iterations = params.iterations,\n",
    "            depth = params.depth,\n",
    "            target_column = schema.name\n",
    "            \n",
    "        )\n",
    "\n",
    "        return model_trainer_config"
   ]
  },
  {
   "cell_type": "code",
   "execution_count": 29,
   "metadata": {},
   "outputs": [],
   "source": [
    "import pandas as pd\n",
    "import os\n",
    "from mlProject import logger\n",
    "import joblib\n",
    "from catboost import CatBoostClassifier"
   ]
  },
  {
   "cell_type": "code",
   "execution_count": 30,
   "metadata": {},
   "outputs": [],
   "source": [
    "class ModelTrainer:\n",
    "    def __init__(self, config: ModelTrainerConfig):\n",
    "        self.config = config\n",
    "\n",
    "    \n",
    "    def train(self):\n",
    "        train_data = pd.read_csv(self.config.train_data_path)\n",
    "        test_data = pd.read_csv(self.config.test_data_path)\n",
    "\n",
    "\n",
    "        train_x = train_data.drop([self.config.target_column], axis=1)\n",
    "        test_x = test_data.drop([self.config.target_column], axis=1)\n",
    "        train_y = train_data[[self.config.target_column]]\n",
    "        test_y = test_data[[self.config.target_column]]\n",
    "\n",
    "        cat = CatBoostClassifier(iterations=self.config.iterations, depth=self.config.depth, random_state=42)\n",
    "        cat.fit(train_x, train_y)\n",
    "\n",
    "        joblib.dump(cat, os.path.join(self.config.root_dir, self.config.model_name))\n",
    "\n"
   ]
  },
  {
   "cell_type": "code",
   "execution_count": 31,
   "metadata": {},
   "outputs": [
    {
     "name": "stdout",
     "output_type": "stream",
     "text": [
      "[2024-05-11 01:59:00,362: INFO: common: yaml file: config/config.yaml loaded successfully]\n",
      "[2024-05-11 01:59:00,364: INFO: common: yaml file: params.yaml loaded successfully]\n",
      "[2024-05-11 01:59:00,366: INFO: common: yaml file: schema.yaml loaded successfully]\n",
      "[2024-05-11 01:59:00,366: INFO: common: created directory at: artifacts]\n",
      "[2024-05-11 01:59:00,367: INFO: common: created directory at: artifacts/model_trainer]\n",
      "Learning rate set to 0.404581\n",
      "0:\tlearn: 0.6275672\ttotal: 62.2ms\tremaining: 3.17s\n",
      "1:\tlearn: 0.5956880\ttotal: 63.4ms\tremaining: 1.58s\n",
      "2:\tlearn: 0.5780880\ttotal: 64.4ms\tremaining: 1.05s\n",
      "3:\tlearn: 0.5659778\ttotal: 65.4ms\tremaining: 785ms\n",
      "4:\tlearn: 0.5567688\ttotal: 66.4ms\tremaining: 624ms\n",
      "5:\tlearn: 0.5512447\ttotal: 67.2ms\tremaining: 515ms\n",
      "6:\tlearn: 0.5449777\ttotal: 67.9ms\tremaining: 437ms\n",
      "7:\tlearn: 0.5387175\ttotal: 68.7ms\tremaining: 378ms\n",
      "8:\tlearn: 0.5321193\ttotal: 70.1ms\tremaining: 335ms\n",
      "9:\tlearn: 0.5282953\ttotal: 71.3ms\tremaining: 299ms\n",
      "10:\tlearn: 0.5239182\ttotal: 72.4ms\tremaining: 270ms\n",
      "11:\tlearn: 0.5203754\ttotal: 73.5ms\tremaining: 245ms\n",
      "12:\tlearn: 0.5174998\ttotal: 74.5ms\tremaining: 224ms\n",
      "13:\tlearn: 0.5122966\ttotal: 75.7ms\tremaining: 205ms\n",
      "14:\tlearn: 0.5078188\ttotal: 76.7ms\tremaining: 189ms\n",
      "15:\tlearn: 0.5052151\ttotal: 77.7ms\tremaining: 175ms\n",
      "16:\tlearn: 0.5027002\ttotal: 78.5ms\tremaining: 162ms\n",
      "17:\tlearn: 0.5003715\ttotal: 80ms\tremaining: 151ms\n",
      "18:\tlearn: 0.4988154\ttotal: 80.8ms\tremaining: 140ms\n",
      "19:\tlearn: 0.4961982\ttotal: 81.6ms\tremaining: 131ms\n",
      "20:\tlearn: 0.4934204\ttotal: 82.4ms\tremaining: 122ms\n",
      "21:\tlearn: 0.4892970\ttotal: 83.2ms\tremaining: 113ms\n",
      "22:\tlearn: 0.4876819\ttotal: 84ms\tremaining: 106ms\n",
      "23:\tlearn: 0.4840439\ttotal: 84.8ms\tremaining: 98.9ms\n",
      "24:\tlearn: 0.4821692\ttotal: 85.6ms\tremaining: 92.4ms\n",
      "25:\tlearn: 0.4804680\ttotal: 86.7ms\tremaining: 86.7ms\n",
      "26:\tlearn: 0.4762345\ttotal: 87.6ms\tremaining: 81.1ms\n",
      "27:\tlearn: 0.4741942\ttotal: 88.5ms\tremaining: 75.8ms\n",
      "28:\tlearn: 0.4717511\ttotal: 89.4ms\tremaining: 70.9ms\n",
      "29:\tlearn: 0.4699191\ttotal: 90.3ms\tremaining: 66.2ms\n",
      "30:\tlearn: 0.4652832\ttotal: 91.2ms\tremaining: 61.8ms\n",
      "31:\tlearn: 0.4619024\ttotal: 92.1ms\tremaining: 57.5ms\n",
      "32:\tlearn: 0.4592462\ttotal: 92.9ms\tremaining: 53.5ms\n",
      "33:\tlearn: 0.4580433\ttotal: 93.7ms\tremaining: 49.6ms\n",
      "34:\tlearn: 0.4557578\ttotal: 94.6ms\tremaining: 45.9ms\n",
      "35:\tlearn: 0.4534031\ttotal: 95.5ms\tremaining: 42.4ms\n",
      "36:\tlearn: 0.4509740\ttotal: 96.4ms\tremaining: 39.1ms\n",
      "37:\tlearn: 0.4476962\ttotal: 97.3ms\tremaining: 35.9ms\n",
      "38:\tlearn: 0.4441650\ttotal: 98.2ms\tremaining: 32.7ms\n",
      "39:\tlearn: 0.4419902\ttotal: 99ms\tremaining: 29.7ms\n",
      "40:\tlearn: 0.4394139\ttotal: 99.7ms\tremaining: 26.8ms\n",
      "41:\tlearn: 0.4378293\ttotal: 100ms\tremaining: 23.9ms\n",
      "42:\tlearn: 0.4353664\ttotal: 101ms\tremaining: 21.2ms\n",
      "43:\tlearn: 0.4333987\ttotal: 102ms\tremaining: 18.5ms\n",
      "44:\tlearn: 0.4319647\ttotal: 103ms\tremaining: 16ms\n",
      "45:\tlearn: 0.4300990\ttotal: 103ms\tremaining: 13.5ms\n",
      "46:\tlearn: 0.4289237\ttotal: 104ms\tremaining: 11.1ms\n",
      "47:\tlearn: 0.4277526\ttotal: 105ms\tremaining: 8.73ms\n",
      "48:\tlearn: 0.4259412\ttotal: 105ms\tremaining: 6.46ms\n",
      "49:\tlearn: 0.4233378\ttotal: 106ms\tremaining: 4.25ms\n",
      "50:\tlearn: 0.4212662\ttotal: 107ms\tremaining: 2.1ms\n",
      "51:\tlearn: 0.4191148\ttotal: 108ms\tremaining: 0us\n"
     ]
    }
   ],
   "source": [
    "try:\n",
    "    config = ConfigurationManager()\n",
    "    model_trainer_config = config.get_model_trainer_config()\n",
    "    model_trainer_config = ModelTrainer(config=model_trainer_config)\n",
    "    model_trainer_config.train()\n",
    "except Exception as e:\n",
    "    raise e"
   ]
  },
  {
   "cell_type": "code",
   "execution_count": null,
   "metadata": {},
   "outputs": [],
   "source": []
  }
 ],
 "metadata": {
  "kernelspec": {
   "display_name": "mlproj",
   "language": "python",
   "name": "python3"
  },
  "language_info": {
   "codemirror_mode": {
    "name": "ipython",
    "version": 3
   },
   "file_extension": ".py",
   "mimetype": "text/x-python",
   "name": "python",
   "nbconvert_exporter": "python",
   "pygments_lexer": "ipython3",
   "version": "3.11.2"
  },
  "orig_nbformat": 4
 },
 "nbformat": 4,
 "nbformat_minor": 2
}
